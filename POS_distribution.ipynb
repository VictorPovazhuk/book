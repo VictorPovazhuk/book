{
 "cells": [
  {
   "cell_type": "code",
   "execution_count": 1,
   "metadata": {},
   "outputs": [],
   "source": [
    "import pandas as pd\n",
    "import matplotlib.pyplot as plt\n",
    "%matplotlib inline\n",
    "\n",
    "def load_books(file_name):\n",
    "    df = pd.read_csv('DATA/library/bnb/' + file_name)\n",
    "    return df\n",
    "\n",
    "def test(file_name):\n",
    "    df = load_books(file_name)\n",
    "    print(df.head())"
   ]
  },
  {
   "cell_type": "code",
   "execution_count": 2,
   "metadata": {},
   "outputs": [
    {
     "name": "stdout",
     "output_type": "stream",
     "text": [
      "                                               Topic Type of topic  \\\n",
      "0  A Beckett, Gilbert Abbott, barrister and comic...        person   \n",
      "1                                A' Beckett, William        person   \n",
      "2                                A' Beckett, William        person   \n",
      "3  Abbot, Charles, 1st Baron Colchester, Speaker ...        person   \n",
      "4                          Abbotsford, Roxburghshire         place   \n",
      "\n",
      "    BL record ID                 Type of resource Content type Material type  \\\n",
      "0  040-002003620   File. Archives and Manuscripts          NaN           NaN   \n",
      "1  040-002054876   File. Archives and Manuscripts          NaN           NaN   \n",
      "2  040-002054877   File. Archives and Manuscripts          NaN           NaN   \n",
      "3  040-002057858   File. Archives and Manuscripts          NaN           NaN   \n",
      "4  032-001983006  Fonds. Archives and Manuscripts          NaN           NaN   \n",
      "\n",
      "  BNB number                 Archival Resource Key ISBN Name  ... Publisher  \\\n",
      "0        NaN  ark:/81055/vdc_100000000672.0x000190  NaN  NaN  ...       NaN   \n",
      "1        NaN  ark:/81055/vdc_100000001047.0x000078  NaN  NaN  ...       NaN   \n",
      "2        NaN  ark:/81055/vdc_100000001047.0x000079  NaN  NaN  ...       NaN   \n",
      "3        NaN  ark:/81055/vdc_100000001159.0x000185  NaN  NaN  ...       NaN   \n",
      "4        NaN  ark:/81055/vdc_100000000053.0x00016a  NaN  NaN  ...       NaN   \n",
      "\n",
      "  Date of creation/publication Edition Physical description  \\\n",
      "0            Jan 1838-Apr 1838     NaN               1 item   \n",
      "1                    1827-1867     NaN               1 item   \n",
      "2                         1829     NaN               1 item   \n",
      "3                    1818-1820     NaN               1 item   \n",
      "4                    1822-1844     NaN               1 item   \n",
      "\n",
      "  Dewey classification                          BL shelfmark Genre  \\\n",
      "0                  NaN     Western Manuscripts. Add MS 42945   NaN   \n",
      "1                  NaN     Western Manuscripts. Add MS 36464   NaN   \n",
      "2                  NaN     Western Manuscripts. Add MS 36465   NaN   \n",
      "3                  NaN     Western Manuscripts. Add MS 38574   NaN   \n",
      "4                  NaN  Western Manuscripts. Egerton MS 2075   NaN   \n",
      "\n",
      "                    Languages  \\\n",
      "0           English ; Italian   \n",
      "1  English ; French ; Italian   \n",
      "2            English ; French   \n",
      "3                     English   \n",
      "4                     English   \n",
      "\n",
      "                                               Notes Provenance  \n",
      "0  LORD CHAMBERLAIN'S PLAYS. Vol. LXXXI (ff. 821)...        NaN  \n",
      "1  Vol. IX. (ff. 494). June, 1827- Dec. 1828. 186...        NaN  \n",
      "2  Vol. X. (f. 375). 1829. includes:. ff. 1, 2, 1...        NaN  \n",
      "3  Vol. CCCXI (ff. 238). 1818-1820. George IV of ...        NaN  \n",
      "4  Art. Engravings, etc: Collection by A. Cooper ...        NaN  \n",
      "\n",
      "[5 rows x 30 columns]\n"
     ]
    }
   ],
   "source": [
    "test('topics.csv')"
   ]
  },
  {
   "cell_type": "code",
   "execution_count": 3,
   "metadata": {},
   "outputs": [
    {
     "data": {
      "image/png": "[encoded data removed]",
      "text/plain": [
       "<Figure size 432x288 with 1 Axes>"
      ]
     },
     "metadata": {
      "needs_background": "light"
     },
     "output_type": "display_data"
    }
   ],
   "source": [
    "pl = plt.plot([1, 2, 3, 4], [8, 5, 10, 1], 'rd')\n",
    "plt.axis([0, 6, 0, 20])\n",
    "plt.ylabel('some numbers')\n",
    "plt.show()"
   ]
  },
  {
   "cell_type": "code",
   "execution_count": 4,
   "metadata": {},
   "outputs": [
    {
     "data": {
      "image/png": "[encoded data removed]",
      "text/plain": [
       "<Figure size 432x288 with 1 Axes>"
      ]
     },
     "metadata": {
      "needs_background": "light"
     },
     "output_type": "display_data"
    }
   ],
   "source": [
    "plt.plot([1, 2, 3, 4], [1, 4, 9, 16])\n",
    "plt.show()"
   ]
  },
  {
   "cell_type": "code",
   "execution_count": 5,
   "metadata": {},
   "outputs": [],
   "source": [
    "plt.show()"
   ]
  },
  {
   "cell_type": "code",
   "execution_count": 6,
   "metadata": {},
   "outputs": [
    {
     "ename": "TypeError",
     "evalue": "unsupported operand type(s) for ** or pow(): 'list' and 'int'",
     "output_type": "error",
     "traceback": [
      "\u001b[0;31m---------------------------------------------------------------------------\u001b[0m",
      "\u001b[0;31mTypeError\u001b[0m                                 Traceback (most recent call last)",
      "\u001b[0;32m<ipython-input-6-74b9cd4e211f>\u001b[0m in \u001b[0;36m<module>\u001b[0;34m\u001b[0m\n\u001b[0;32m----> 1\u001b[0;31m \u001b[0;34m[\u001b[0m\u001b[0;36m1\u001b[0m\u001b[0;34m,\u001b[0m \u001b[0;36m5\u001b[0m\u001b[0;34m,\u001b[0m \u001b[0;36m4\u001b[0m\u001b[0;34m]\u001b[0m \u001b[0;34m**\u001b[0m \u001b[0;36m2\u001b[0m\u001b[0;34m\u001b[0m\u001b[0;34m\u001b[0m\u001b[0m\n\u001b[0m",
      "\u001b[0;31mTypeError\u001b[0m: unsupported operand type(s) for ** or pow(): 'list' and 'int'"
     ]
    }
   ],
   "source": [
    "[1, 5, 4] ** 2"
   ]
  },
  {
   "cell_type": "code",
   "execution_count": null,
   "metadata": {},
   "outputs": [],
   "source": [
    "import numpy as np\n",
    "\n",
    "arr = np.arange(0, 5, 0.2)\n",
    "plt.plot(arr, 'ro', arr**2, 'gd', arr**2.5, 'b')\n",
    "plt.axis([0, 15, 0, 5])\n",
    "plt.show()"
   ]
  },
  {
   "cell_type": "code",
   "execution_count": null,
   "metadata": {},
   "outputs": [],
   "source": [
    "import numpy as np\n",
    "\n",
    "dic = {'a': np.arange(50),\n",
    "       'b': np.random.randint(0, 50, 50),\n",
    "       'c': np.random.randn(50)}\n",
    "dic['d'] = dic['a'] + 10 * np.random.randn(50)\n",
    "dic['e'] = np.abs(dic['c']) * 100\n",
    "\n",
    "plt.scatter('a', 'd', c='b', s='e', data=dic)\n",
    "plt.xlabel('a values')\n",
    "plt.ylabel('d values')\n",
    "plt.show()"
   ]
  },
  {
   "cell_type": "code",
   "execution_count": null,
   "metadata": {},
   "outputs": [],
   "source": [
    "authors = ['Albert', 'Steve', 'Mark']\n",
    "books = [24, 12, 36]\n",
    "\n",
    "plt.figure(figsize=(18, 6))\n",
    "plt.subplot(131)\n",
    "plt.bar(authors, books)\n",
    "plt.subplot(132)\n",
    "lines = plt.plot(authors, books, 'gd', authors, books, 'y', linewidth=3.0)\n",
    "plt.subplot(133)\n",
    "plt.scatter(authors, books, c=np.random.randint(0,50,3), linewidth=10.0)\n",
    "plt.suptitle('Books per author in 1986')\n",
    "plt.show()\n",
    "print(lines)"
   ]
  },
  {
   "cell_type": "code",
   "execution_count": null,
   "metadata": {},
   "outputs": [],
   "source": [
    "[8]*3"
   ]
  },
  {
   "cell_type": "code",
   "execution_count": 7,
   "metadata": {},
   "outputs": [
    {
     "name": "stderr",
     "output_type": "stream",
     "text": [
      "<ipython-input-7-3ccac3a211d1>:13: MatplotlibDeprecationWarning: Adding an axes using the same arguments as a previous axes currently reuses the earlier instance.  In a future version, a new instance will always be created and returned.  Meanwhile, this warning can be suppressed, and the future behavior ensured, by passing a unique label to each axes instance.\n",
      "  plt.subplot(211)             # make subplot(211) in figure1 current\n"
     ]
    },
    {
     "data": {
      "text/plain": [
       "Text(0.5, 1.0, 'Easy as 1, 2, 3')"
      ]
     },
     "execution_count": 7,
     "metadata": {},
     "output_type": "execute_result"
    },
    {
     "data": {
      "image/png": "[encoded data removed]",
      "text/plain": [
       "<Figure size 432x288 with 1 Axes>"
      ]
     },
     "metadata": {
      "needs_background": "light"
     },
     "output_type": "display_data"
    },
    {
     "data": {
      "image/png": "[encoded data removed]",
      "text/plain": [
       "<Figure size 432x288 with 2 Axes>"
      ]
     },
     "metadata": {
      "needs_background": "light"
     },
     "output_type": "display_data"
    }
   ],
   "source": [
    "import matplotlib.pyplot as plt\n",
    "plt.figure(1)                # the first figure\n",
    "plt.subplot(211)             # the first subplot in the first figure\n",
    "plt.plot([1, 2, 3])\n",
    "plt.subplot(212)             # the second subplot in the first figure\n",
    "plt.plot([4, 5, 6])\n",
    "\n",
    "\n",
    "plt.figure(2)                # a second figure\n",
    "plt.plot([4, 5, 6])          # creates a subplot(111) by default\n",
    "\n",
    "plt.figure(1)                # figure 1 current; subplot(212) still current\n",
    "plt.subplot(211)             # make subplot(211) in figure1 current\n",
    "plt.title('Easy as 1, 2, 3') # subplot 211 title"
   ]
  },
  {
   "cell_type": "code",
   "execution_count": 17,
   "metadata": {},
   "outputs": [
    {
     "data": {
      "image/png": "[encoded data removed]",
      "text/plain": [
       "<Figure size 432x288 with 1 Axes>"
      ]
     },
     "metadata": {
      "needs_background": "light"
     },
     "output_type": "display_data"
    }
   ],
   "source": [
    "ax = plt.subplot(111)\n",
    "\n",
    "t = np.arange(0.0, 5.0, 0.01)\n",
    "s = np.cos(2*np.pi*t)\n",
    "line, = plt.plot(t, s, lw=2)\n",
    "\n",
    "plt.annotate('local max', xy=(2, 1), xytext=(3, 1.5),\n",
    "             arrowprops=dict(facecolor='black', shrink=0.05),\n",
    "             )\n",
    "\n",
    "plt.ylim(-2, 2)\n",
    "plt.show()"
   ]
  },
  {
   "cell_type": "code",
   "execution_count": 9,
   "metadata": {},
   "outputs": [],
   "source": [
    "import numpy as np"
   ]
  },
  {
   "cell_type": "code",
   "execution_count": 48,
   "metadata": {},
   "outputs": [
    {
     "data": {
      "text/html": [
       "<div>\n",
       "<style scoped>\n",
       "    .dataframe tbody tr th:only-of-type {\n",
       "        vertical-align: middle;\n",
       "    }\n",
       "\n",
       "    .dataframe tbody tr th {\n",
       "        vertical-align: top;\n",
       "    }\n",
       "\n",
       "    .dataframe thead th {\n",
       "        text-align: right;\n",
       "    }\n",
       "</style>\n",
       "<table border=\"1\" class=\"dataframe\">\n",
       "  <thead>\n",
       "    <tr style=\"text-align: right;\">\n",
       "      <th></th>\n",
       "      <th>Topic</th>\n",
       "      <th>Type of topic</th>\n",
       "      <th>BL record ID</th>\n",
       "      <th>Type of resource</th>\n",
       "      <th>Content type</th>\n",
       "      <th>Material type</th>\n",
       "      <th>BNB number</th>\n",
       "      <th>Archival Resource Key</th>\n",
       "      <th>ISBN</th>\n",
       "      <th>Name</th>\n",
       "      <th>...</th>\n",
       "      <th>Publisher</th>\n",
       "      <th>Date of creation/publication</th>\n",
       "      <th>Edition</th>\n",
       "      <th>Physical description</th>\n",
       "      <th>Dewey classification</th>\n",
       "      <th>BL shelfmark</th>\n",
       "      <th>Genre</th>\n",
       "      <th>Languages</th>\n",
       "      <th>Notes</th>\n",
       "      <th>Provenance</th>\n",
       "    </tr>\n",
       "  </thead>\n",
       "  <tbody>\n",
       "    <tr>\n",
       "      <th>0</th>\n",
       "      <td>A Beckett, Gilbert Abbott, barrister and comic...</td>\n",
       "      <td>person</td>\n",
       "      <td>040-002003620</td>\n",
       "      <td>File. Archives and Manuscripts</td>\n",
       "      <td>NaN</td>\n",
       "      <td>NaN</td>\n",
       "      <td>NaN</td>\n",
       "      <td>ark:/81055/vdc_100000000672.0x000190</td>\n",
       "      <td>NaN</td>\n",
       "      <td>NaN</td>\n",
       "      <td>...</td>\n",
       "      <td>NaN</td>\n",
       "      <td>Jan 1838-Apr 1838</td>\n",
       "      <td>NaN</td>\n",
       "      <td>1 item</td>\n",
       "      <td>NaN</td>\n",
       "      <td>Western Manuscripts. Add MS 42945</td>\n",
       "      <td>NaN</td>\n",
       "      <td>English ; Italian</td>\n",
       "      <td>LORD CHAMBERLAIN'S PLAYS. Vol. LXXXI (ff. 821)...</td>\n",
       "      <td>NaN</td>\n",
       "    </tr>\n",
       "  </tbody>\n",
       "</table>\n",
       "<p>1 rows × 30 columns</p>\n",
       "</div>"
      ],
      "text/plain": [
       "                                               Topic Type of topic  \\\n",
       "0  A Beckett, Gilbert Abbott, barrister and comic...        person   \n",
       "\n",
       "    BL record ID                Type of resource Content type Material type  \\\n",
       "0  040-002003620  File. Archives and Manuscripts          NaN           NaN   \n",
       "\n",
       "  BNB number                 Archival Resource Key ISBN Name  ... Publisher  \\\n",
       "0        NaN  ark:/81055/vdc_100000000672.0x000190  NaN  NaN  ...       NaN   \n",
       "\n",
       "  Date of creation/publication Edition Physical description  \\\n",
       "0            Jan 1838-Apr 1838     NaN               1 item   \n",
       "\n",
       "  Dewey classification                       BL shelfmark Genre  \\\n",
       "0                  NaN  Western Manuscripts. Add MS 42945   NaN   \n",
       "\n",
       "           Languages                                              Notes  \\\n",
       "0  English ; Italian  LORD CHAMBERLAIN'S PLAYS. Vol. LXXXI (ff. 821)...   \n",
       "\n",
       "  Provenance  \n",
       "0        NaN  \n",
       "\n",
       "[1 rows x 30 columns]"
      ]
     },
     "execution_count": 48,
     "metadata": {},
     "output_type": "execute_result"
    }
   ],
   "source": [
    "import pandas as pd\n",
    "import matplotlib.pyplot as plt\n",
    "\n",
    "df = pd.read_csv('DATA/library/bnb/topics.csv')\n",
    "df.iloc[0:1, 0:30]"
   ]
  },
  {
   "cell_type": "code",
   "execution_count": 39,
   "metadata": {},
   "outputs": [
    {
     "data": {
      "image/png": "[encoded data removed]",
      "text/plain": [
       "<Figure size 2160x2160 with 1 Axes>"
      ]
     },
     "metadata": {
      "needs_background": "light"
     },
     "output_type": "display_data"
    }
   ],
   "source": [
    "df['Type of topic'].value_counts().plot(x='Type of topic', y='count', kind='bar', figsize=(30,30))\n",
    "# plt.axis([0, 9, 0, 500])\n",
    "plt.show()"
   ]
  },
  {
   "cell_type": "code",
   "execution_count": 54,
   "metadata": {},
   "outputs": [
    {
     "data": {
      "text/plain": [
       "Topic    Ashburnham, George, Viscount St Asaph, 3rd Ear...\n",
       "Title                                                  NaN\n",
       "Name: 100, dtype: object"
      ]
     },
     "execution_count": 54,
     "metadata": {},
     "output_type": "execute_result"
    }
   ],
   "source": [
    "df[['Topic', 'Title']].iloc[100]"
   ]
  },
  {
   "cell_type": "code",
   "execution_count": 58,
   "metadata": {},
   "outputs": [
    {
     "data": {
      "text/html": [
       "<div>\n",
       "<style scoped>\n",
       "    .dataframe tbody tr th:only-of-type {\n",
       "        vertical-align: middle;\n",
       "    }\n",
       "\n",
       "    .dataframe tbody tr th {\n",
       "        vertical-align: top;\n",
       "    }\n",
       "\n",
       "    .dataframe thead th {\n",
       "        text-align: right;\n",
       "    }\n",
       "</style>\n",
       "<table border=\"1\" class=\"dataframe\">\n",
       "  <thead>\n",
       "    <tr style=\"text-align: right;\">\n",
       "      <th></th>\n",
       "      <th>Topic</th>\n",
       "      <th>Title</th>\n",
       "    </tr>\n",
       "  </thead>\n",
       "  <tbody>\n",
       "    <tr>\n",
       "      <th>594</th>\n",
       "      <td>Byron, Anne Isabella Milbanke Byron, Baroness,...</td>\n",
       "      <td>A quiet adjustment</td>\n",
       "    </tr>\n",
       "    <tr>\n",
       "      <th>598</th>\n",
       "      <td>Byron, Anne Isabella Milbanke Byron, Baroness,...</td>\n",
       "      <td>A quiet adjustment</td>\n",
       "    </tr>\n",
       "    <tr>\n",
       "      <th>599</th>\n",
       "      <td>Byron, Anne Isabella Milbanke Byron, Baroness,...</td>\n",
       "      <td>A quiet adjustment</td>\n",
       "    </tr>\n",
       "    <tr>\n",
       "      <th>600</th>\n",
       "      <td>Byron, Anne Isabella Milbanke Byron, Baroness,...</td>\n",
       "      <td>A quiet adjustment</td>\n",
       "    </tr>\n",
       "    <tr>\n",
       "      <th>876</th>\n",
       "      <td>Byron, George Gordon Byron, Baron, 1788-1824</td>\n",
       "      <td>A quiet adjustment</td>\n",
       "    </tr>\n",
       "    <tr>\n",
       "      <th>1258</th>\n",
       "      <td>Byron, George Gordon Byron, Baron, 1788-1824--...</td>\n",
       "      <td>A quiet adjustment</td>\n",
       "    </tr>\n",
       "    <tr>\n",
       "      <th>1260</th>\n",
       "      <td>Byron, George Gordon Byron, Baron, 1788-1824--...</td>\n",
       "      <td>A quiet adjustment</td>\n",
       "    </tr>\n",
       "    <tr>\n",
       "      <th>1270</th>\n",
       "      <td>Byron, George Gordon Byron, Baron, 1788-1824--...</td>\n",
       "      <td>A quiet adjustment</td>\n",
       "    </tr>\n",
       "    <tr>\n",
       "      <th>3646</th>\n",
       "      <td>Leigh, Augusta, 1784-1851</td>\n",
       "      <td>A quiet adjustment</td>\n",
       "    </tr>\n",
       "    <tr>\n",
       "      <th>3647</th>\n",
       "      <td>Leigh, Augusta, 1784-1851--Fiction</td>\n",
       "      <td>A quiet adjustment</td>\n",
       "    </tr>\n",
       "    <tr>\n",
       "      <th>3775</th>\n",
       "      <td>London (England)--Social conditions--19th cent...</td>\n",
       "      <td>A quiet adjustment</td>\n",
       "    </tr>\n",
       "    <tr>\n",
       "      <th>3776</th>\n",
       "      <td>London (England)--Social conditions--19th cent...</td>\n",
       "      <td>A quiet adjustment</td>\n",
       "    </tr>\n",
       "    <tr>\n",
       "      <th>5940</th>\n",
       "      <td>Triangles (Interpersonal relations)</td>\n",
       "      <td>A quiet adjustment</td>\n",
       "    </tr>\n",
       "    <tr>\n",
       "      <th>5941</th>\n",
       "      <td>Triangles (Interpersonal relations)--Fiction</td>\n",
       "      <td>A quiet adjustment</td>\n",
       "    </tr>\n",
       "  </tbody>\n",
       "</table>\n",
       "</div>"
      ],
      "text/plain": [
       "                                                  Topic               Title\n",
       "594   Byron, Anne Isabella Milbanke Byron, Baroness,...  A quiet adjustment\n",
       "598   Byron, Anne Isabella Milbanke Byron, Baroness,...  A quiet adjustment\n",
       "599   Byron, Anne Isabella Milbanke Byron, Baroness,...  A quiet adjustment\n",
       "600   Byron, Anne Isabella Milbanke Byron, Baroness,...  A quiet adjustment\n",
       "876        Byron, George Gordon Byron, Baron, 1788-1824  A quiet adjustment\n",
       "1258  Byron, George Gordon Byron, Baron, 1788-1824--...  A quiet adjustment\n",
       "1260  Byron, George Gordon Byron, Baron, 1788-1824--...  A quiet adjustment\n",
       "1270  Byron, George Gordon Byron, Baron, 1788-1824--...  A quiet adjustment\n",
       "3646                          Leigh, Augusta, 1784-1851  A quiet adjustment\n",
       "3647                 Leigh, Augusta, 1784-1851--Fiction  A quiet adjustment\n",
       "3775  London (England)--Social conditions--19th cent...  A quiet adjustment\n",
       "3776  London (England)--Social conditions--19th cent...  A quiet adjustment\n",
       "5940                Triangles (Interpersonal relations)  A quiet adjustment\n",
       "5941       Triangles (Interpersonal relations)--Fiction  A quiet adjustment"
      ]
     },
     "execution_count": 58,
     "metadata": {},
     "output_type": "execute_result"
    }
   ],
   "source": [
    "df[['Topic', 'Title']][df['Title'] == 'A quiet adjustment']"
   ]
  },
  {
   "cell_type": "code",
   "execution_count": 142,
   "metadata": {},
   "outputs": [
    {
     "data": {
      "text/plain": [
       "0        8\n",
       "1        3\n",
       "2        3\n",
       "3       12\n",
       "4        2\n",
       "        ..\n",
       "6297     2\n",
       "6298    14\n",
       "6299     2\n",
       "6300     3\n",
       "6301     5\n",
       "Name: words_count, Length: 6302, dtype: int64"
      ]
     },
     "execution_count": 142,
     "metadata": {},
     "output_type": "execute_result"
    }
   ],
   "source": [
    "df['words_count'] = df['Topic'].apply(lambda x: len(str(x).split()))\n",
    "\n",
    "df['words_count']"
   ]
  },
  {
   "cell_type": "code",
   "execution_count": 145,
   "metadata": {},
   "outputs": [
    {
     "data": {
      "image/png": "[encoded data removed]",
      "text/plain": [
       "<Figure size 1440x1440 with 1 Axes>"
      ]
     },
     "metadata": {
      "needs_background": "light"
     },
     "output_type": "display_data"
    }
   ],
   "source": [
    "df['words_count'].plot(kind='hist', figsize=(20,20), bins=50, title='Words distribution for topics')\n",
    "plt.show()"
   ]
  },
  {
   "cell_type": "code",
   "execution_count": 72,
   "metadata": {},
   "outputs": [
    {
     "data": {
      "text/plain": [
       "0    A Beckett, Gilbert Abbott, barrister and comic...\n",
       "1                                  A' Beckett, William\n",
       "2                                  A' Beckett, William\n",
       "3    Abbot, Charles, 1st Baron Colchester, Speaker ...\n",
       "4                            Abbotsford, Roxburghshire\n",
       "5                                        Abbott, P- H-\n",
       "6                              Aberdeenshire, Scotland\n",
       "7                  Ackermann, Rudolph, of Add MS 33964\n",
       "8                                   Adair, Robert, GCB\n",
       "9                                             Adam, W-\n",
       "Name: Topic, dtype: object"
      ]
     },
     "execution_count": 72,
     "metadata": {},
     "output_type": "execute_result"
    }
   ],
   "source": [
    "df['Topic'][0:10]"
   ]
  },
  {
   "cell_type": "code",
   "execution_count": 74,
   "metadata": {},
   "outputs": [
    {
     "name": "stdout",
     "output_type": "stream",
     "text": [
      "Defaulting to user installation because normal site-packages is not writeable\n",
      "Collecting textblob\n",
      "  Downloading textblob-0.15.3-py2.py3-none-any.whl (636 kB)\n",
      "\u001b[K     |████████████████████████████████| 636 kB 1.5 MB/s eta 0:00:01\n",
      "\u001b[?25hCollecting nltk>=3.1\n",
      "  Downloading nltk-3.5.zip (1.4 MB)\n",
      "\u001b[K     |████████████████████████████████| 1.4 MB 8.6 MB/s eta 0:00:01\n",
      "\u001b[?25hRequirement already satisfied: click in /usr/lib/python3.8/site-packages (from nltk>=3.1->textblob) (7.1.2)\n",
      "Requirement already satisfied: joblib in /home/vityha/.local/lib/python3.8/site-packages (from nltk>=3.1->textblob) (0.17.0)\n",
      "Requirement already satisfied: regex in /usr/lib/python3.8/site-packages (from nltk>=3.1->textblob) (2020.11.13)\n",
      "Collecting tqdm\n",
      "  Downloading tqdm-4.54.1-py2.py3-none-any.whl (69 kB)\n",
      "\u001b[K     |████████████████████████████████| 69 kB 6.2 MB/s eta 0:00:01\n",
      "\u001b[?25hBuilding wheels for collected packages: nltk\n",
      "  Building wheel for nltk (setup.py) ... \u001b[?25ldone\n",
      "\u001b[?25h  Created wheel for nltk: filename=nltk-3.5-py3-none-any.whl size=1434675 sha256=6cf6ce03d40b3b4ab84e9f1f0d2ddc277649735d4b37a12892bb6efcee57c309\n",
      "  Stored in directory: /home/vityha/.cache/pip/wheels/ff/d5/7b/f1fb4e1e1603b2f01c2424dd60fbcc50c12ef918bafc44b155\n",
      "Successfully built nltk\n",
      "Installing collected packages: tqdm, nltk, textblob\n",
      "Successfully installed nltk-3.5 textblob-0.15.3 tqdm-4.54.1\n"
     ]
    }
   ],
   "source": [
    "!pip install textblob"
   ]
  },
  {
   "cell_type": "code",
   "execution_count": 78,
   "metadata": {},
   "outputs": [
    {
     "data": {
      "text/plain": [
       "WordList(['death', 'magnificent book'])"
      ]
     },
     "execution_count": 78,
     "metadata": {},
     "output_type": "execute_result"
    }
   ],
   "source": [
    "from textblob import TextBlob\n",
    "\n",
    "text = TextBlob('\"Death souls\" is a magnificent book.')\n",
    "text.tags\n",
    "text.noun_phrases"
   ]
  },
  {
   "cell_type": "code",
   "execution_count": 85,
   "metadata": {},
   "outputs": [
    {
     "data": {
      "text/plain": [
       "Sentiment(polarity=0.0, subjectivity=0.0)"
      ]
     },
     "execution_count": 85,
     "metadata": {},
     "output_type": "execute_result"
    }
   ],
   "source": [
    "testimonial = TextBlob(\"Very bad and horrible day!!!\")\n",
    "testimonial.sentiment"
   ]
  },
  {
   "cell_type": "code",
   "execution_count": 89,
   "metadata": {},
   "outputs": [
    {
     "data": {
      "text/plain": [
       "Sentence(\"Textblob is amazingly simple to use.\")"
      ]
     },
     "execution_count": 89,
     "metadata": {},
     "output_type": "execute_result"
    }
   ],
   "source": [
    "testimonial = TextBlob(\"Textblob is amazingly simple to use. What great fun!\")\n",
    "testimonial.sentiment\n",
    "testimonial.sentences[0]#.sentiment"
   ]
  },
  {
   "cell_type": "code",
   "execution_count": 118,
   "metadata": {},
   "outputs": [
    {
     "data": {
      "text/plain": [
       "(\"0       A Beckett, Gilbert Abbott, barrister and comic...\\n1                                     A' Beckett, William\\n2                                     A' Beckett, William\\n3       Abbot, Charles, 1st Baron Colchester, Speaker ...\\n4                               Abbotsford, Roxburghshire\\n                              ...                        \\n6297                                          Zindorf, G-\\n6298    de la Santísima Trinidad Bolívar y Palacios Po...\\n6299                               lgnatius, Metropolitan\\n6300              Чубинський, Павло, 1839-1884--Biography\\n6301    Чубинський, Павло, 1839-1884--Criticism and in...\\nName: Topic, Length: 6302, dtype: object\",\n",
       " 678)"
      ]
     },
     "execution_count": 118,
     "metadata": {},
     "output_type": "execute_result"
    }
   ],
   "source": [
    "str(df['Topic']), len(str(df['Topic']))"
   ]
  },
  {
   "cell_type": "code",
   "execution_count": 140,
   "metadata": {},
   "outputs": [
    {
     "data": {
      "text/plain": [
       "False"
      ]
     },
     "execution_count": 140,
     "metadata": {},
     "output_type": "execute_result"
    }
   ],
   "source": [
    "s = df['Topic'].to_string()\n",
    "len(s)\n",
    "'...' in s"
   ]
  },
  {
   "cell_type": "code",
   "execution_count": 147,
   "metadata": {},
   "outputs": [
    {
     "data": {
      "text/plain": [
       "\"0                                              A Beckett, Gilbert Abbott, barrister and comic writer\\n1                                                                                A' Beckett, William\\n2                                                                                A' Beckett, William\\n3                   Abbot, Charles, 1st Baron Colchester, Speaker of the House of Commons, 1757-1829\\n4                                                                          Abbotsford, Roxburghshire\\n                                                    ...                                             \\n6297                                                                                     Zindorf, G-\\n6298    de la Santísima Trinidad Bolívar y Palacios Ponte y Blanco, Simon, 'el Liberador', 1783-1830\\n6299                                                                          lgnatius, Metropolitan\\n6300                                                         Чубинський, Павло, 1839-1884--Biography\\n6301                                      Чубинський, Павло, 1839-1884--Criticism and interpretation\\nName: Topic, Length: 6302, dtype: object\""
      ]
     },
     "execution_count": 147,
     "metadata": {},
     "output_type": "execute_result"
    }
   ],
   "source": [
    "pd.options.display.max_colwidth = 500"
   ]
  },
  {
   "cell_type": "code",
   "execution_count": 150,
   "metadata": {},
   "outputs": [
    {
     "data": {
      "image/png": "[encoded data removed]",
      "text/plain": [
       "<Figure size 720x720 with 1 Axes>"
      ]
     },
     "metadata": {
      "needs_background": "light"
     },
     "output_type": "display_data"
    }
   ],
   "source": [
    "text = TextBlob(df['Topic'].to_string())\n",
    "# print(len(str(df['Topic'])), len(text.tags))\n",
    "pos_df = pd.DataFrame(text.tags, columns=['word', 'pos'])\n",
    "pos_sr = pos_df['pos'].value_counts()[0:20]\n",
    "pos_sr.plot(x='pos', y='count', kind='bar', figsize=(10,10), title='Distribution of POS tagging in topics')\n",
    "plt.show()"
   ]
  },
  {
   "cell_type": "code",
   "execution_count": 151,
   "metadata": {},
   "outputs": [
    {
     "data": {
      "text/plain": [
       "pandas.core.series.Series"
      ]
     },
     "execution_count": 151,
     "metadata": {},
     "output_type": "execute_result"
    }
   ],
   "source": [
    "text = TextBlob(df['Topic'].to_string())\n",
    "# print(len(str(df['Topic'])), len(text.tags))\n",
    "pos_df = pd.DataFrame(text.tags, columns=['word', 'pos'])\n",
    "pos_sr = pos_df['pos'].value_counts()[0:20]\n",
    "pos_sr"
   ]
  },
  {
   "cell_type": "code",
   "execution_count": null,
   "metadata": {},
   "outputs": [],
   "source": []
  }
 ],
 "metadata": {
  "kernelspec": {
   "display_name": "Python 3",
   "language": "python",
   "name": "python3"
  },
  "language_info": {
   "codemirror_mode": {
    "name": "ipython",
    "version": 3
   },
   "file_extension": ".py",
   "mimetype": "text/x-python",
   "name": "python",
   "nbconvert_exporter": "python",
   "pygments_lexer": "ipython3",
   "version": "3.8.6"
  }
 },
 "nbformat": 4,
 "nbformat_minor": 4
}
